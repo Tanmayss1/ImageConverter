{
 "cells": [
  {
   "cell_type": "code",
   "execution_count": 1,
   "metadata": {},
   "outputs": [
    {
     "name": "stdout",
     "output_type": "stream",
     "text": [
      "Animated photo (GIF) created successfully.\n"
     ]
    }
   ],
   "source": [
    "#GIF Maker \n",
    "\n",
    "\n",
    "import os\n",
    "from PIL import Image, ImageFilter\n",
    "\n",
    "path = \"./Wallpapers Folder\"\n",
    "pathOut = \"./Results set\"\n",
    "gif_filename = \"animated_photo.gif\"  # Name of the output GIF file\n",
    "\n",
    "# Create the output directory if it doesn't exist\n",
    "os.makedirs(pathOut, exist_ok=True)\n",
    "\n",
    "# List to store images\n",
    "images = []\n",
    "\n",
    "for filename in os.listdir(path):\n",
    "    img = Image.open(f\"{path}/{filename}\")\n",
    "    edit = img.filter(ImageFilter.SHARPEN).convert('L')\n",
    "    clean_name = os.path.splitext(filename)[0]\n",
    "    edited_filename = f'{pathOut}/{clean_name}_edited.jpg'\n",
    "    edit.save(edited_filename)\n",
    "    images.append(edit)  # Append the Image object, not the filename\n",
    "\n",
    "# Convert images to GIF\n",
    "images[0].save(f'{pathOut}/{gif_filename}',\n",
    "               save_all=True,\n",
    "               append_images=images[1:],\n",
    "               duration=400,  # Duration in milliseconds for each frame\n",
    "               loop=0)  # Loop count (0 for infinite loop)\n",
    "\n",
    "print(\"Animated photo (GIF) created successfully.\")\n"
   ]
  },
  {
   "cell_type": "code",
   "execution_count": null,
   "metadata": {},
   "outputs": [],
   "source": []
  },
  {
   "cell_type": "code",
   "execution_count": null,
   "metadata": {},
   "outputs": [],
   "source": []
  }
 ],
 "metadata": {
  "kernelspec": {
   "display_name": "base",
   "language": "python",
   "name": "python3"
  },
  "language_info": {
   "codemirror_mode": {
    "name": "ipython",
    "version": 3
   },
   "file_extension": ".py",
   "mimetype": "text/x-python",
   "name": "python",
   "nbconvert_exporter": "python",
   "pygments_lexer": "ipython3",
   "version": "3.9.12"
  },
  "orig_nbformat": 4
 },
 "nbformat": 4,
 "nbformat_minor": 2
}
